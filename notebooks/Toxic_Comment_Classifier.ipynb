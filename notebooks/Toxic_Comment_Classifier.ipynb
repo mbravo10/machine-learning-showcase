{
 "cells": [
  {
   "cell_type": "markdown",
   "id": "91d99360-bada-4779-84f5-fd86ad537ba1",
   "metadata": {},
   "source": [
    "# This notebook is a toxic comment classifier"
   ]
  },
  {
   "cell_type": "markdown",
   "id": "b255c68e-21b8-4a52-977a-9f5760f0ed6e",
   "metadata": {},
   "source": [
    "Here are some links that we may use in the future\n",
    "\n",
    "[Toxic Comment Project Repo](https://github.com/Prakhar-FF13/Toxic-Comments-Classification)\n",
    "\n",
    "[Toxic Comment Kaggle Competition Page](https://www.kaggle.com/c/jigsaw-unintended-bias-in-toxicity-classification)"
   ]
  },
  {
   "cell_type": "code",
   "execution_count": 4,
   "id": "2a18f999-6d2b-4f50-9df7-e42fb437eaed",
   "metadata": {},
   "outputs": [],
   "source": [
    "import pandas as pd\n",
    "import seaborn as sns\n"
   ]
  },
  {
   "cell_type": "code",
   "execution_count": null,
   "id": "98964ca0-ea41-40f4-ae9d-ddcdbfa0307e",
   "metadata": {},
   "outputs": [],
   "source": []
  }
 ],
 "metadata": {
  "kernelspec": {
   "display_name": "Python 3 (ipykernel)",
   "language": "python",
   "name": "python3"
  },
  "language_info": {
   "codemirror_mode": {
    "name": "ipython",
    "version": 3
   },
   "file_extension": ".py",
   "mimetype": "text/x-python",
   "name": "python",
   "nbconvert_exporter": "python",
   "pygments_lexer": "ipython3",
   "version": "3.9.7"
  }
 },
 "nbformat": 4,
 "nbformat_minor": 5
}
