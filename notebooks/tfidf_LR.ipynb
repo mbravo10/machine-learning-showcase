{
 "cells": [
  {
   "cell_type": "markdown",
   "metadata": {},
   "source": [
    "# Train Logistic Regression using Frequency Vectorizer"
   ]
  },
  {
   "cell_type": "code",
   "execution_count": 1,
   "metadata": {},
   "outputs": [],
   "source": [
    "# import cleaned data\n",
    "import pandas as pd\n",
    "train_data = pd.read_csv('../../data/cleaned_data.csv', index_col='id')"
   ]
  },
  {
   "cell_type": "code",
   "execution_count": 2,
   "metadata": {},
   "outputs": [],
   "source": [
    "# Apply frequency vectorizer to comment data\n",
    "from sklearn.feature_extraction.text import TfidfVectorizer\n",
    "\n",
    "tfid_vectorizer = TfidfVectorizer()\n",
    "tfid_tranformed_train_data = tfid_vectorizer.fit_transform(train_data.comment_text)"
   ]
  },
  {
   "cell_type": "code",
   "execution_count": 3,
   "metadata": {},
   "outputs": [
    {
     "name": "stdout",
     "output_type": "stream",
     "text": [
      "Number of features:  500866\n",
      "Number of train samples:  1443538\n",
      "Number of train samples:  360885\n"
     ]
    }
   ],
   "source": [
    "# Select columns and split data\n",
    "from sklearn.model_selection import train_test_split\n",
    "y = train_data.target\n",
    "X = tfid_tranformed_train_data\n",
    "\n",
    "X_train, X_test, y_train, y_test = train_test_split(X, y, \n",
    "                                    test_size=.2, random_state=1, stratify=y)\n",
    "\n",
    "print(\"Number of features: \", X_train.shape[1])\n",
    "print(\"Number of train samples: \", y_train.shape[0])\n",
    "print(\"Number of train samples: \", y_test.shape[0])"
   ]
  },
  {
   "cell_type": "code",
   "execution_count": 13,
   "metadata": {},
   "outputs": [],
   "source": [
    "# Import and train classifier\n",
    "from sklearn.linear_model import LogisticRegression\n",
    "trained_Logistic_Regressor = LogisticRegression(random_state=0, solver='sag').fit(X_train, y_train)"
   ]
  },
  {
   "cell_type": "code",
   "execution_count": 14,
   "metadata": {},
   "outputs": [],
   "source": [
    "# Make predictions on test data\n",
    "Logistic_Regressor_predictions = trained_Logistic_Regressor.predict(X_test)"
   ]
  },
  {
   "cell_type": "code",
   "execution_count": 15,
   "metadata": {},
   "outputs": [],
   "source": [
    "# Find missclassified samples\n",
    "import numpy as np\n",
    "misclassified = np.where(y_test != Logistic_Regressor_predictions)\n",
    "miss_df = pd.DataFrame(misclassified)"
   ]
  },
  {
   "cell_type": "code",
   "execution_count": 16,
   "metadata": {},
   "outputs": [
    {
     "name": "stdout",
     "output_type": "stream",
     "text": [
      "              precision    recall  f1-score   support\n",
      "\n",
      "   Non-Toxic       0.95      0.99      0.97    332018\n",
      "       Toxic       0.77      0.45      0.57     28867\n",
      "\n",
      "    accuracy                           0.95    360885\n",
      "   macro avg       0.86      0.72      0.77    360885\n",
      "weighted avg       0.94      0.95      0.94    360885\n",
      "\n"
     ]
    }
   ],
   "source": [
    "# Calculate and show model metrics\n",
    "from sklearn import metrics\n",
    "print(metrics.classification_report(y_test, Logistic_Regressor_predictions,target_names=['Non-Toxic', 'Toxic']))"
   ]
  },
  {
   "cell_type": "code",
   "execution_count": null,
   "metadata": {},
   "outputs": [],
   "source": []
  }
 ],
 "metadata": {
  "interpreter": {
   "hash": "133c30c637e664b28652d2ad794490ddb9bb96854963e2ba3eba36c1a6669e51"
  },
  "kernelspec": {
   "display_name": "Python 3.9.7 ('ml')",
   "language": "python",
   "name": "python3"
  },
  "language_info": {
   "codemirror_mode": {
    "name": "ipython",
    "version": 3
   },
   "file_extension": ".py",
   "mimetype": "text/x-python",
   "name": "python",
   "nbconvert_exporter": "python",
   "pygments_lexer": "ipython3",
   "version": "3.9.7"
  },
  "orig_nbformat": 4
 },
 "nbformat": 4,
 "nbformat_minor": 2
}
