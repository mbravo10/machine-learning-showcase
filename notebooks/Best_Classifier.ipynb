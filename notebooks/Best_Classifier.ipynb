{
 "cells": [
  {
   "cell_type": "markdown",
   "metadata": {},
   "source": [
    "The purpose of this notbook is to train the best models we found with their best parameters on various different hashing vectorizers. The resulting combination or vectoirizer and model will be chosen to pickle and deploy."
   ]
  },
  {
   "cell_type": "code",
   "execution_count": null,
   "metadata": {},
   "outputs": [],
   "source": [
    "# import cleaned data\n",
    "import pandas as pd\n",
    "train_data = pd.read_csv('../../data/cleaned_data.csv', index_col='id')"
   ]
  },
  {
   "cell_type": "code",
   "execution_count": null,
   "metadata": {},
   "outputs": [],
   "source": [
    "# Apply hashing vectorizer to comment data\n",
    "from sklearn.feature_extraction.text import HashingVectorizer\n",
    "\n",
    "tfid_vectorizer = HashingVectorizer()\n",
    "tfid_tranformed_train_data = tfid_vectorizer.fit_transform(train_data.comment_text)"
   ]
  },
  {
   "cell_type": "code",
   "execution_count": null,
   "metadata": {},
   "outputs": [],
   "source": [
    "# Select columns and split data\n",
    "from sklearn.model_selection import train_test_split\n",
    "y = train_data.target\n",
    "X = tfid_tranformed_train_data\n",
    "\n",
    "X_train, X_test, y_train, y_test = train_test_split(X, y, \n",
    "                                    test_size=.2, random_state=1, stratify=y)\n"
   ]
  },
  {
   "cell_type": "code",
   "execution_count": null,
   "metadata": {},
   "outputs": [],
   "source": [
    "# Pipeline code\n",
    "from sklearn.pipeline import Pipeline\n",
    "from sklearn.linear_model import SGDClassifier\n",
    "from sklearn.feature_extraction.text import HashingVectorizer\n",
    "from sklearn.linear_model import LogisticRegression\n",
    "from sklearn.model_selection import GridSearchCV\n",
    "\n",
    "hasher = HashingVectorizer(strip_accents=None,\n",
    "                        lowercase=False,\n",
    "                        preprocessor=None)\n",
    "\n",
    "param_grid = [{'vect__ngram_range': [(1, 1), (1, 2), (2, 2)],\n",
    "               'vect__n_features': [2**20, 600000],  # Default, and value close to number of actual features\n",
    "               'vect__alternate_sign': [True, False]\n",
    "              },]\n",
    "\n",
    "# Best SDG w/ hashing vect\n",
    "sdg_pipeline = Pipeline([('vect', hasher),\n",
    "                     ('sdg', SGDClassifier(random_state=0, n_jobs=-1, learning_rate='optimal', early_stopping=False, class_weight=None, loss='squared_hinge', penalty='l2', shuffle=False))])\n",
    "\n",
    "# Best LG w/ hashing vect\n",
    "lr_pipeline = Pipeline([('vect', hasher),\n",
    "                     ('sdg', LogisticRegression(random_state=0, n_jobs=-1, C=1.0, penalty='l2', solver='saga'))])\n",
    "\n",
    "gs_sdg_hash = GridSearchCV(sdg_pipeline, param_grid,\n",
    "                           scoring='accuracy',\n",
    "                           cv=5,\n",
    "                           verbose=2,\n",
    "                           n_jobs=-1)\n",
    "\n",
    "gs_lr_hash = GridSearchCV(lr_pipeline, param_grid,\n",
    "                           scoring='accuracy',\n",
    "                           cv=5,\n",
    "                           verbose=2,\n",
    "                           n_jobs=-1)"
   ]
  },
  {
   "cell_type": "code",
   "execution_count": null,
   "metadata": {},
   "outputs": [],
   "source": [
    "gs_sdg_hash.fit(X_train, y_train)"
   ]
  },
  {
   "cell_type": "code",
   "execution_count": null,
   "metadata": {},
   "outputs": [],
   "source": [
    "gs_lr_hash.fit(X_train, y_train)"
   ]
  },
  {
   "cell_type": "code",
   "execution_count": null,
   "metadata": {},
   "outputs": [],
   "source": [
    "print('Best parameter set: %s ' % gs_sdg_hash.best_params_)\n",
    "print('CV Accuracy: %.3f' % gs_sdg_hash.best_score_)\n",
    "\n",
    "best_sdg = gs_sdg_hash.best_estimator_\n",
    "print('Test Accuracy: %.3f' % best_sdg.score(X_test, y_test))"
   ]
  },
  {
   "cell_type": "code",
   "execution_count": null,
   "metadata": {},
   "outputs": [],
   "source": [
    "print('Best parameter set: %s ' % gs_lr_hash.best_params_)\n",
    "print('CV Accuracy: %.3f' % gs_lr_hash.best_score_)\n",
    "\n",
    "best_lr = gs_lr_hash.best_estimator_\n",
    "print('Test Accuracy: %.3f' % best_lr.score(X_test, y_test))"
   ]
  }
 ],
 "metadata": {
  "interpreter": {
   "hash": "133c30c637e664b28652d2ad794490ddb9bb96854963e2ba3eba36c1a6669e51"
  },
  "kernelspec": {
   "display_name": "Python 3.9.7 ('ml')",
   "language": "python",
   "name": "python3"
  },
  "language_info": {
   "codemirror_mode": {
    "name": "ipython",
    "version": 3
   },
   "file_extension": ".py",
   "mimetype": "text/x-python",
   "name": "python",
   "nbconvert_exporter": "python",
   "pygments_lexer": "ipython3",
   "version": "3.9.7"
  },
  "orig_nbformat": 4
 },
 "nbformat": 4,
 "nbformat_minor": 2
}
