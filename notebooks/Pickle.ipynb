{
 "cells": [
  {
   "cell_type": "code",
   "execution_count": 3,
   "metadata": {},
   "outputs": [],
   "source": [
    "import pandas as pd\n",
    "import pickle\n",
    "import os\n",
    "\n",
    "# Setup for pickling\n",
    "dest = '..\\\\pickles'\n",
    "if not os.path.exists(dest):\n",
    "    os.makedirs(dest)\n"
   ]
  },
  {
   "cell_type": "code",
   "execution_count": 4,
   "metadata": {},
   "outputs": [],
   "source": [
    "# import cleaned data\n",
    "train_data = pd.read_csv('../data/cleaned_data.csv', index_col='id')"
   ]
  },
  {
   "cell_type": "code",
   "execution_count": 5,
   "metadata": {},
   "outputs": [],
   "source": [
    "# Create and pickle things for text transformation (Stop words, stemmer, lematizer)"
   ]
  },
  {
   "cell_type": "code",
   "execution_count": 6,
   "metadata": {},
   "outputs": [],
   "source": [
    "# Create and pickle hashing vectorizer with best params\n",
    "from sklearn.feature_extraction.text import HashingVectorizer\n",
    "\n",
    "hash_vectorizer = HashingVectorizer(alternate_sign=True, n_features=600000, ngram_range=(1,1))\n",
    "vectorized_train_data = hash_vectorizer.fit_transform(train_data.comment_text)\n",
    "\n",
    "pickle.dump(hash_vectorizer, open(os.path.join(dest, 'hash_vect.pkl'), 'wb'), protocol=4)"
   ]
  },
  {
   "cell_type": "code",
   "execution_count": 7,
   "metadata": {},
   "outputs": [],
   "source": [
    "# Select columns and split data\n",
    "from sklearn.model_selection import train_test_split\n",
    "y = train_data.target\n",
    "X = vectorized_train_data\n",
    "\n",
    "X_train, X_test, y_train, y_test = train_test_split(X, y, \n",
    "                                    test_size=.2, random_state=1, stratify=y)"
   ]
  },
  {
   "cell_type": "code",
   "execution_count": 8,
   "metadata": {},
   "outputs": [
    {
     "name": "stdout",
     "output_type": "stream",
     "text": [
      "              precision    recall  f1-score   support\n",
      "\n",
      "   Non-Toxic       0.95      0.99      0.97    332018\n",
      "       Toxic       0.78      0.44      0.56     28867\n",
      "\n",
      "    accuracy                           0.94    360885\n",
      "   macro avg       0.86      0.71      0.77    360885\n",
      "weighted avg       0.94      0.94      0.94    360885\n",
      "\n"
     ]
    }
   ],
   "source": [
    "# Create, train, and pickle model\n",
    "from sklearn.linear_model import LogisticRegression\n",
    "best_lr = LogisticRegression(\n",
    "    random_state=0, solver='saga', penalty='l2', C=1,\n",
    ").fit(X_train, y_train)\n",
    "\n",
    "# Make predictions on test data\n",
    "Logistic_Regressor_predictions = best_lr.predict(X_test)\n",
    "\n",
    "# Calculate and show model metrics\n",
    "from sklearn import metrics\n",
    "print(metrics.classification_report(y_test, Logistic_Regressor_predictions,target_names=['Non-Toxic', 'Toxic']))\n",
    "\n",
    "pickle.dump(best_lr, open(os.path.join(dest, 'trained_log_reg.pkl'), 'wb'), protocol=4)"
   ]
  },
  {
   "cell_type": "code",
   "execution_count": 9,
   "metadata": {},
   "outputs": [
    {
     "name": "stderr",
     "output_type": "stream",
     "text": [
      "C:\\Users\\Willi\\anaconda3\\envs\\ml\\lib\\site-packages\\sklearn\\linear_model\\_stochastic_gradient.py:696: ConvergenceWarning: Maximum number of iteration reached before convergence. Consider increasing max_iter to improve the fit.\n",
      "  warnings.warn(\n"
     ]
    }
   ],
   "source": [
    "# Create and pickle hashing vectorizer with best params\n",
    "from sklearn.feature_extraction.text import HashingVectorizer\n",
    "\n",
    "hash_vectorizer = HashingVectorizer(alternate_sign=False, n_features=600000, ngram_range=(1,2))\n",
    "vectorized_train_data = hash_vectorizer.fit_transform(train_data.comment_text)\n",
    "\n",
    "from sklearn.linear_model import SGDClassifier\n",
    "best_sgd = SGDClassifier(\n",
    "    random_state=0, class_weight=None, loss='squared_hinge', penalty='l2', shuffle=False\n",
    ").fit(X_train, y_train)\n",
    "\n",
    "pickle.dump(best_sgd, open(os.path.join(dest, 'trained_sgd.pkl'), 'wb'), protocol=4)"
   ]
  },
  {
   "cell_type": "code",
   "execution_count": 10,
   "metadata": {},
   "outputs": [
    {
     "name": "stdout",
     "output_type": "stream",
     "text": [
      "              precision    recall  f1-score   support\n",
      "\n",
      "   Non-Toxic       0.95      0.96      0.96    332018\n",
      "       Toxic       0.49      0.47      0.48     28867\n",
      "\n",
      "    accuracy                           0.92    360885\n",
      "   macro avg       0.72      0.71      0.72    360885\n",
      "weighted avg       0.92      0.92      0.92    360885\n",
      "\n"
     ]
    }
   ],
   "source": [
    "# Make predictions on test data\n",
    "pred = best_sgd.predict(X_test)\n",
    "\n",
    "# Calculate and show model metrics\n",
    "from sklearn import metrics\n",
    "print(metrics.classification_report(y_test, pred, target_names=['Non-Toxic', 'Toxic']))"
   ]
  },
  {
   "cell_type": "code",
   "execution_count": null,
   "metadata": {},
   "outputs": [],
   "source": []
  }
 ],
 "metadata": {
  "interpreter": {
   "hash": "133c30c637e664b28652d2ad794490ddb9bb96854963e2ba3eba36c1a6669e51"
  },
  "kernelspec": {
   "display_name": "Python 3.9.7 ('ml')",
   "language": "python",
   "name": "python3"
  },
  "language_info": {
   "codemirror_mode": {
    "name": "ipython",
    "version": 3
   },
   "file_extension": ".py",
   "mimetype": "text/x-python",
   "name": "python",
   "nbconvert_exporter": "python",
   "pygments_lexer": "ipython3",
   "version": "3.9.7"
  },
  "orig_nbformat": 4
 },
 "nbformat": 4,
 "nbformat_minor": 2
}
